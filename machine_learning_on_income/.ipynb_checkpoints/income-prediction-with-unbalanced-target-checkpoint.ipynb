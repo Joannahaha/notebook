{
 "cells": [
  {
   "cell_type": "markdown",
   "metadata": {
    "collapsed": true
   },
   "source": [
    "# Income prediction\n",
    "An individual’s annual income results from various factors. Intuitively, it is influenced by the individual’s education level, age, gender, occupation, and etc.\n",
    "\n",
    "UCI's adult income dataset is a widely cited KNN dataset. I encountered it during one of my master course.\n",
    "\n",
    "This is my first complete machine learning project, in the sense that I have practised a full cyle from understanding the data, build models, evaluate the models performance, and find ways to improve. \n",
    "\n",
    "The goal here is predict an individual's income level based on a set of attributes.\n",
    "\n",
    "Acknowledgements \n",
    "* the dataset: http://www.cs.toronto.edu/~delve/data/adult/desc.html\n",
    "* specs: http://www.cs.toronto.edu/~delve/data/adult/adultDetail.html"
   ]
  },
  {
   "cell_type": "markdown",
   "metadata": {},
   "source": [
    "1. [Get Started](income-prediction-with-unbalanced-target.ipynb#1.-Get-Started)\n",
    "2. [Explore the Data](income-prediction-with-unbalanced-target.ipynb#2.-Explore-the-Data)\n",
    "  * [Variable Identification](income-prediction-with-unbalanced-target.ipynb#Variable-Identification)\n",
    "  * [Deal with Missing Values](income-prediction-with-unbalanced-target.ipynb#Deal-with-Missing-Values)\n",
    "  * [Univariate Analysis](income-prediction-with-unbalanced-target.ipynb#Univariate-Analysis)\n",
    "  * [Bi-variate Analysis](income-prediction-with-unbalanced-target.ipynb#Bi-variate-Analysis)\n",
    "3. [Logistic Regression](income-prediction-with-unbalanced-target.ipynb#3.-Logistic-Regression)\n",
    "  * [Feature Engineering with Numerical Variables](income-prediction-with-unbalanced-target.ipynb#Feature-Engineering-with-Numerical-Variables)\n",
    "  * [Feature Engineering with Categorical Variables](income-prediction-with-unbalanced-target.ipynb#Feature-Engineering-with-Categorical-Variables)\n",
    "  * [Build the Model](income-prediction-with-unbalanced-target.ipynb#Logistic:-Build-the-Model)\n",
    "4. [Support Vector Machine](income-prediction-with-unbalanced-target.ipynb#4.-Support-Vector-Machine)\n",
    "  * [Oversampling](income-prediction-with-unbalanced-target.ipynb#Oversampling)\n",
    "  * [Build the Model](income-prediction-with-unbalanced-target.ipynb#SVM:-Build-the-Model)\n",
    "5. [Random Forests](income-prediction-with-unbalanced-target.ipynb#5.-Random-Forests)\n",
    "  * [Parameter Tuning](income-prediction-with-unbalanced-target.ipynb#Parameter-Tuning)\n",
    "  * [Build the Model](income-prediction-with-unbalanced-target.ipynb#RF:-Build-the-Model)\n",
    "6. [Learning](income-prediction-with-unbalanced-target.ipynb#6.-Learning)\n",
    "  \n",
    "\n"
   ]
  },
  {
   "cell_type": "markdown",
   "metadata": {},
   "source": [
    "# 1. Get Started\n",
    "Import libraries and load data"
   ]
  },
  {
   "cell_type": "code",
   "execution_count": 1,
   "metadata": {
    "collapsed": false
   },
   "outputs": [
    {
     "name": "stderr",
     "output_type": "stream",
     "text": [
      "/Users/liuwr/anaconda/envs/jupyter/lib/python2.7/site-packages/sklearn/cross_validation.py:44: DeprecationWarning: This module was deprecated in version 0.18 in favor of the model_selection module into which all the refactored classes and functions are moved. Also note that the interface of the new CV iterators are different from that of this module. This module will be removed in 0.20.\n",
      "  \"This module will be removed in 0.20.\", DeprecationWarning)\n",
      "/Users/liuwr/anaconda/envs/jupyter/lib/python2.7/site-packages/sklearn/grid_search.py:43: DeprecationWarning: This module was deprecated in version 0.18 in favor of the model_selection module into which all the refactored classes and functions are moved. This module will be removed in 0.20.\n",
      "  DeprecationWarning)\n"
     ]
    }
   ],
   "source": [
    "import numpy as np \n",
    "import pandas as pd  \n",
    "from scipy import stats \n",
    "\n",
    "from sklearn.cross_validation import StratifiedShuffleSplit\n",
    "from sklearn.metrics import accuracy_score, roc_auc_score\n",
    "\n",
    "import matplotlib.pyplot as plt\n",
    "%matplotlib inline\n",
    "import seaborn as sns\n",
    "\n",
    "from sklearn.preprocessing import LabelEncoder\n",
    "from sklearn.preprocessing import OneHotEncoder\n",
    "from sklearn.preprocessing import StandardScaler\n",
    "from sklearn.pipeline import Pipeline\n",
    "from sklearn.grid_search import GridSearchCV\n",
    "\n",
    "# for logit regression. \n",
    "# statsmodel outputs descriptive stats of the model\n",
    "import statsmodels.api as sm\n",
    "\n",
    "# for SVM\n",
    "from sklearn.svm import SVC\n",
    "from sklearn.pipeline import Pipeline\n",
    "from sklearn.preprocessing import StandardScaler\n",
    " \n",
    "# for random forest\n",
    "from sklearn.tree import DecisionTreeClassifier\n",
    "from sklearn.ensemble import RandomForestClassifier"
   ]
  },
  {
   "cell_type": "code",
   "execution_count": 2,
   "metadata": {
    "collapsed": false
   },
   "outputs": [
    {
     "data": {
      "text/html": [
       "<div>\n",
       "<table border=\"1\" class=\"dataframe\">\n",
       "  <thead>\n",
       "    <tr style=\"text-align: right;\">\n",
       "      <th></th>\n",
       "      <th>age</th>\n",
       "      <th>workclass</th>\n",
       "      <th>fnlwgt</th>\n",
       "      <th>education</th>\n",
       "      <th>educational-num</th>\n",
       "      <th>marital-status</th>\n",
       "      <th>occupation</th>\n",
       "      <th>relationship</th>\n",
       "      <th>race</th>\n",
       "      <th>gender</th>\n",
       "      <th>capital-gain</th>\n",
       "      <th>capital-loss</th>\n",
       "      <th>hours-per-week</th>\n",
       "      <th>native-country</th>\n",
       "      <th>income</th>\n",
       "    </tr>\n",
       "  </thead>\n",
       "  <tbody>\n",
       "    <tr>\n",
       "      <th>0</th>\n",
       "      <td>25</td>\n",
       "      <td>Private</td>\n",
       "      <td>226802</td>\n",
       "      <td>11th</td>\n",
       "      <td>7</td>\n",
       "      <td>Never-married</td>\n",
       "      <td>Machine-op-inspct</td>\n",
       "      <td>Own-child</td>\n",
       "      <td>Black</td>\n",
       "      <td>Male</td>\n",
       "      <td>0</td>\n",
       "      <td>0</td>\n",
       "      <td>40</td>\n",
       "      <td>United-States</td>\n",
       "      <td>&lt;=50K</td>\n",
       "    </tr>\n",
       "    <tr>\n",
       "      <th>1</th>\n",
       "      <td>38</td>\n",
       "      <td>Private</td>\n",
       "      <td>89814</td>\n",
       "      <td>HS-grad</td>\n",
       "      <td>9</td>\n",
       "      <td>Married-civ-spouse</td>\n",
       "      <td>Farming-fishing</td>\n",
       "      <td>Husband</td>\n",
       "      <td>White</td>\n",
       "      <td>Male</td>\n",
       "      <td>0</td>\n",
       "      <td>0</td>\n",
       "      <td>50</td>\n",
       "      <td>United-States</td>\n",
       "      <td>&lt;=50K</td>\n",
       "    </tr>\n",
       "    <tr>\n",
       "      <th>2</th>\n",
       "      <td>28</td>\n",
       "      <td>Local-gov</td>\n",
       "      <td>336951</td>\n",
       "      <td>Assoc-acdm</td>\n",
       "      <td>12</td>\n",
       "      <td>Married-civ-spouse</td>\n",
       "      <td>Protective-serv</td>\n",
       "      <td>Husband</td>\n",
       "      <td>White</td>\n",
       "      <td>Male</td>\n",
       "      <td>0</td>\n",
       "      <td>0</td>\n",
       "      <td>40</td>\n",
       "      <td>United-States</td>\n",
       "      <td>&gt;50K</td>\n",
       "    </tr>\n",
       "    <tr>\n",
       "      <th>3</th>\n",
       "      <td>44</td>\n",
       "      <td>Private</td>\n",
       "      <td>160323</td>\n",
       "      <td>Some-college</td>\n",
       "      <td>10</td>\n",
       "      <td>Married-civ-spouse</td>\n",
       "      <td>Machine-op-inspct</td>\n",
       "      <td>Husband</td>\n",
       "      <td>Black</td>\n",
       "      <td>Male</td>\n",
       "      <td>7688</td>\n",
       "      <td>0</td>\n",
       "      <td>40</td>\n",
       "      <td>United-States</td>\n",
       "      <td>&gt;50K</td>\n",
       "    </tr>\n",
       "    <tr>\n",
       "      <th>4</th>\n",
       "      <td>18</td>\n",
       "      <td>?</td>\n",
       "      <td>103497</td>\n",
       "      <td>Some-college</td>\n",
       "      <td>10</td>\n",
       "      <td>Never-married</td>\n",
       "      <td>?</td>\n",
       "      <td>Own-child</td>\n",
       "      <td>White</td>\n",
       "      <td>Female</td>\n",
       "      <td>0</td>\n",
       "      <td>0</td>\n",
       "      <td>30</td>\n",
       "      <td>United-States</td>\n",
       "      <td>&lt;=50K</td>\n",
       "    </tr>\n",
       "  </tbody>\n",
       "</table>\n",
       "</div>"
      ],
      "text/plain": [
       "   age  workclass  fnlwgt     education  educational-num      marital-status  \\\n",
       "0   25    Private  226802          11th                7       Never-married   \n",
       "1   38    Private   89814       HS-grad                9  Married-civ-spouse   \n",
       "2   28  Local-gov  336951    Assoc-acdm               12  Married-civ-spouse   \n",
       "3   44    Private  160323  Some-college               10  Married-civ-spouse   \n",
       "4   18          ?  103497  Some-college               10       Never-married   \n",
       "\n",
       "          occupation relationship   race  gender  capital-gain  capital-loss  \\\n",
       "0  Machine-op-inspct    Own-child  Black    Male             0             0   \n",
       "1    Farming-fishing      Husband  White    Male             0             0   \n",
       "2    Protective-serv      Husband  White    Male             0             0   \n",
       "3  Machine-op-inspct      Husband  Black    Male          7688             0   \n",
       "4                  ?    Own-child  White  Female             0             0   \n",
       "\n",
       "   hours-per-week native-country income  \n",
       "0              40  United-States  <=50K  \n",
       "1              50  United-States  <=50K  \n",
       "2              40  United-States   >50K  \n",
       "3              40  United-States   >50K  \n",
       "4              30  United-States  <=50K  "
      ]
     },
     "execution_count": 2,
     "metadata": {},
     "output_type": "execute_result"
    }
   ],
   "source": [
    "data = pd.read_csv(\"adult.csv\") \n",
    "data.head()"
   ]
  },
  {
   "cell_type": "markdown",
   "metadata": {},
   "source": [
    "# 2. Explore the Data\n",
    "## Variable Identification"
   ]
  },
  {
   "cell_type": "code",
   "execution_count": 3,
   "metadata": {
    "collapsed": false
   },
   "outputs": [
    {
     "name": "stdout",
     "output_type": "stream",
     "text": [
      "<class 'pandas.core.frame.DataFrame'>\n",
      "RangeIndex: 48842 entries, 0 to 48841\n",
      "Data columns (total 15 columns):\n",
      "age                48842 non-null int64\n",
      "workclass          48842 non-null object\n",
      "fnlwgt             48842 non-null int64\n",
      "education          48842 non-null object\n",
      "educational-num    48842 non-null int64\n",
      "marital-status     48842 non-null object\n",
      "occupation         48842 non-null object\n",
      "relationship       48842 non-null object\n",
      "race               48842 non-null object\n",
      "gender             48842 non-null object\n",
      "capital-gain       48842 non-null int64\n",
      "capital-loss       48842 non-null int64\n",
      "hours-per-week     48842 non-null int64\n",
      "native-country     48842 non-null object\n",
      "income             48842 non-null object\n",
      "dtypes: int64(6), object(9)\n",
      "memory usage: 5.6+ MB\n"
     ]
    }
   ],
   "source": [
    "data.info()"
   ]
  },
  {
   "cell_type": "markdown",
   "metadata": {},
   "source": [
    "For this classification problem, the target variable is income\n",
    "\n",
    "There are 14 predictors:\n",
    "* age, workclass, fnlwgt, education, educational-num, marital-status, occupation, relationship, race, gender, capital-gain, capital-loss, hours-per-week, native-country\n",
    " \n",
    "\n",
    "Among the 14 predictors, there are 8 categorical fields are:\n",
    "* workclass, education, marital-status, occupation, relationship, race, gender, native-country\n",
    "\n",
    "And 6 numerical fields are:\n",
    "* age, fnlwgt, educational-num, capital-gain, capital-loss, hours-per-week"
   ]
  },
  {
   "cell_type": "markdown",
   "metadata": {},
   "source": [
    "#### Particulary with the target variable"
   ]
  },
  {
   "cell_type": "code",
   "execution_count": 4,
   "metadata": {
    "collapsed": true
   },
   "outputs": [],
   "source": [
    "# label low and high income\n",
    "income_map = {\"<=50K\":0,\n",
    "              \">50K\":1}\n",
    "\n",
    "data[\"income\"] = data[\"income\"].map(income_map)"
   ]
  },
  {
   "cell_type": "code",
   "execution_count": 5,
   "metadata": {
    "collapsed": false
   },
   "outputs": [
    {
     "data": {
      "text/plain": [
       "'76.07%'"
      ]
     },
     "execution_count": 5,
     "metadata": {},
     "output_type": "execute_result"
    }
   ],
   "source": [
    "# low income\n",
    "\"{0:.2f}%\".format(data[\"income\"].value_counts()[0] / float(data.shape[0]) * 100)"
   ]
  },
  {
   "cell_type": "code",
   "execution_count": 6,
   "metadata": {
    "collapsed": false
   },
   "outputs": [
    {
     "data": {
      "text/plain": [
       "'23.93%'"
      ]
     },
     "execution_count": 6,
     "metadata": {},
     "output_type": "execute_result"
    }
   ],
   "source": [
    "# high income\n",
    "\"{0:.2f}%\".format(data[\"income\"].value_counts()[1] / float(data.shape[0]) * 100)"
   ]
  },
  {
   "cell_type": "markdown",
   "metadata": {},
   "source": [
    "The two target classes are imbalanced. The majority class, low income class, takes a proportion of 76%.\n",
    "- Accuracy can be easily achieved (i.e. by always predicting low income). In fact, how good the prediction with minority classes is a better indication of model performance. AUC is a better measure since it accounts for both true positive rate and false positive rate.\n",
    "- Sampling technique matters in this case. In dividing train and test set, stratified sampling is adopted to preserve the ratio between two classes. At a later stage, increasing the ratio of minority class to make this dataset balanced can be a way to improve model performance.   "
   ]
  },
  {
   "cell_type": "markdown",
   "metadata": {
    "collapsed": true
   },
   "source": [
    "## Deal with Missing Values\n",
    "\n",
    "Here the dataset is not using the default nan string for missing values, instead \"?\" is used\n",
    "\n",
    "Let's check occurrences of \"?\" in each column \n",
    "- the alternative is to replace \"?\" with nan and use isnull( ) method"
   ]
  },
  {
   "cell_type": "code",
   "execution_count": 7,
   "metadata": {
    "collapsed": false,
    "scrolled": true
   },
   "outputs": [
    {
     "name": "stdout",
     "output_type": "stream",
     "text": [
      "workclass\n",
      "2799\n",
      "5.73% \n",
      "\n",
      "occupation\n",
      "2809\n",
      "5.75% \n",
      "\n",
      "native-country\n",
      "857\n",
      "1.75% \n",
      "\n"
     ]
    }
   ],
   "source": [
    "col_names = data.columns\n",
    "num_data = data.shape[0]\n",
    "for c in col_names:\n",
    "    num_non = data[c].isin([\"?\"]).sum()\n",
    "    if num_non > 0:\n",
    "        print (c)\n",
    "        print (num_non)\n",
    "        print (\"{0:.2f}% \\n\".format(float(num_non) / num_data * 100))\n"
   ]
  },
  {
   "cell_type": "markdown",
   "metadata": {
    "collapsed": true
   },
   "source": [
    "All three columns with missing values are categorical columns. Knn can be used to estimate for missing values. But considering the relative low portion of missing data, I chose to discard rows with missing data"
   ]
  },
  {
   "cell_type": "code",
   "execution_count": 8,
   "metadata": {
    "collapsed": false,
    "scrolled": true
   },
   "outputs": [
    {
     "data": {
      "text/plain": [
       "(45222, 15)"
      ]
     },
     "execution_count": 8,
     "metadata": {},
     "output_type": "execute_result"
    }
   ],
   "source": [
    "data = data[data[\"workclass\"] != \"?\"]\n",
    "data = data[data[\"occupation\"] != \"?\"]\n",
    "data = data[data[\"native-country\"] != \"?\"]\n",
    "\n",
    "data.shape"
   ]
  },
  {
   "cell_type": "markdown",
   "metadata": {},
   "source": [
    "After cleaning the data, we get 45,222 rows of data."
   ]
  },
  {
   "cell_type": "code",
   "execution_count": 9,
   "metadata": {
    "collapsed": false
   },
   "outputs": [],
   "source": [
    "# keep a copy of cleaned dataset for future use\n",
    "clean_data = data.copy()"
   ]
  },
  {
   "cell_type": "markdown",
   "metadata": {},
   "source": [
    "## Univariate Analysis"
   ]
  },
  {
   "cell_type": "markdown",
   "metadata": {},
   "source": [
    "How many unique values is there in each field?"
   ]
  },
  {
   "cell_type": "code",
   "execution_count": 10,
   "metadata": {
    "collapsed": false,
    "scrolled": true
   },
   "outputs": [
    {
     "name": "stdout",
     "output_type": "stream",
     "text": [
      "                 unique_count\n",
      "fnlwgt                  26741\n",
      "capital-gain              121\n",
      "capital-loss               97\n",
      "hours-per-week             96\n",
      "age                        74\n",
      "native-country             41\n",
      "education                  16\n",
      "educational-num            16\n",
      "occupation                 14\n",
      "workclass                   7\n",
      "marital-status              7\n",
      "relationship                6\n",
      "race                        5\n",
      "gender                      2\n",
      "income                      2\n"
     ]
    }
   ],
   "source": [
    "# count of unique values in each column\n",
    "col_name = []\n",
    "unique_count = []\n",
    "for c in data.columns:\n",
    "    col_name.append(c)\n",
    "    unique_count.append(len(np.unique(data[c])))\n",
    "\n",
    "df_unique = pd.DataFrame(unique_count, index=col_name, columns=['unique_count'])\n",
    "print df_unique.sort_values(by=['unique_count'], ascending=False)"
   ]
  },
  {
   "cell_type": "markdown",
   "metadata": {},
   "source": [
    "fnlwgt appears to be a highly dispersive. This variable is a weight on the Current Population Survey (CPS) files. It will not be incorporated in set of predictor variables.\n",
    "\n",
    "To further dig into the distribution of each variable, let's plot out values in each field using histogrm. "
   ]
  },
  {
   "cell_type": "code",
   "execution_count": 11,
   "metadata": {
    "collapsed": false
   },
   "outputs": [
    {
     "data": {
      "image/png": "[encoded data removed]",
      "text/plain": [
       "<matplotlib.figure.Figure at 0x10ebdd910>"
      ]
     },
     "metadata": {},
     "output_type": "display_data"
    }
   ],
   "source": [
    "fig = plt.figure(figsize=(20,15))\n",
    "cols = 5\n",
    "rows = np.ceil(float(data.shape[1]) / cols)\n",
    "for i, column in enumerate(data.columns):\n",
    "    ax = fig.add_subplot(rows, cols, i + 1)\n",
    "    ax.set_title(column)\n",
    "    if data.dtypes[column] == np.object:\n",
    "        data[column].value_counts().plot(kind=\"bar\", axes=ax)\n",
    "    else:\n",
    "        data[column].hist(axes=ax)\n",
    "        plt.xticks(rotation=\"vertical\")\n",
    "plt.subplots_adjust(hspace=0.7, wspace=0.2)"
   ]
  },
  {
   "cell_type": "markdown",
   "metadata": {},
   "source": [
    "Observations on numerical fields:\n",
    "- age is skewed to the left, and educational-num is skewed to the right.\n",
    "- capital-gain and capital-loss are filled with 0 values. These two fields are highly skewed.\n",
    "\n",
    "I will attend to these fields when building models."
   ]
  },
  {
   "cell_type": "markdown",
   "metadata": {},
   "source": [
    "## Bi-variate Analysis\n"
   ]
  },
  {
   "cell_type": "markdown",
   "metadata": {},
   "source": [
    "Firstly, a general look at whether each field is significant to the target value. \n",
    "\n",
    "Mann–Whitney U test is a test to determine if two distributions are significantly different. It is chosen because this test does not assume that the data are normally distributed, potentially providing a more accurate assessment of the data sets.\n",
    "\n",
    "The test yields a P value indicating whether or not the two distributions are the same.If P <= 0.05, we are highly confident that the distributions significantly differ, and can claim that the feature had a significant impact on the target value."
   ]
  },
  {
   "cell_type": "code",
   "execution_count": 12,
   "metadata": {
    "collapsed": false
   },
   "outputs": [],
   "source": [
    "#Mann–Whitney U test\n",
    "for c in data.columns:\n",
    "    if c != 'income':\n",
    "        z_stat, p_val = stats.ranksums(data[c], data['income'])\n",
    "        if p_val > 0.05:\n",
    "            print c, p_val"
   ]
  },
  {
   "cell_type": "markdown",
   "metadata": {},
   "source": [
    "Hurray! All features are considered significatn on the target value.\n",
    "\n",
    "Let's proceed further to see the correlation between independent variables and taget value."
   ]
  },
  {
   "cell_type": "code",
   "execution_count": 13,
   "metadata": {
    "collapsed": false,
    "scrolled": false
   },
   "outputs": [
    {
     "name": "stderr",
     "output_type": "stream",
     "text": [
      "/Users/liuwr/anaconda/envs/jupyter/lib/python2.7/site-packages/scipy/stats/stats.py:250: RuntimeWarning: The input array could not be properly checked for nan values. nan values will be ignored.\n",
      "  \"values. nan values will be ignored.\", RuntimeWarning)\n"
     ]
    },
    {
     "name": "stdout",
     "output_type": "stream",
     "text": [
      "                 abs_corr  correlation\n",
      "parameter                             \n",
      "income           1.000000     1.000000\n",
      "relationship     0.335596    -0.335596\n",
      "educational-num  0.332800     0.332800\n",
      "age              0.237040     0.237040\n",
      "marital-status   0.228895    -0.228895\n",
      "hours-per-week   0.227199     0.227199\n",
      "capital-gain     0.221034     0.221034\n",
      "gender           0.215760     0.215760\n",
      "capital-loss     0.148687     0.148687\n",
      "race             0.080547     0.080547\n",
      "occupation       0.055170     0.055170\n",
      "native-country   0.033614     0.033614\n",
      "education        0.032603     0.032603\n",
      "workclass        0.026433     0.026433\n",
      "fnlwgt           0.007264    -0.007264\n"
     ]
    }
   ],
   "source": [
    "category_col = ['workclass', 'race', 'education','marital-status', 'occupation',\n",
    "                'relationship', 'gender', 'native-country'] \n",
    "\n",
    "param=[]\n",
    "correlation=[]\n",
    "abs_corr=[]\n",
    "\n",
    "for c in data.columns:\n",
    "    if c in category_col:\n",
    "        corr = stats.spearmanr(data['income'],data[c])[0]\n",
    "    else:\n",
    "        corr = stats.pointbiserialr(data['income'],data[c])[0]\n",
    "    param.append(c)\n",
    "    correlation.append(corr)\n",
    "    abs_corr.append(abs(corr))\n",
    "\n",
    "#Create dataframe for visualization\n",
    "param_df=pd.DataFrame({'correlation':correlation,'parameter':param, 'abs_corr':abs_corr})\n",
    "\n",
    "#Sort by absolute correlation\n",
    "param_df=param_df.sort_values(by=['abs_corr'], ascending=False)\n",
    "\n",
    "#Set parameter name as index\n",
    "param_df=param_df.set_index('parameter')\n",
    "print param_df"
   ]
  },
  {
   "cell_type": "markdown",
   "metadata": {},
   "source": [
    "This is useful information when it comes to construct new features.\n",
    "\n",
    "And again, fnlwgt has the weakest correlation with target value. \n",
    "\n",
    "Then how about the correlation between each pair of independent varibales. Strongly correlated features are not desirable. To have a straightforward view on correlations, let's visualize the correlation matrix using heatmap."
   ]
  },
  {
   "cell_type": "code",
   "execution_count": 14,
   "metadata": {
    "collapsed": false,
    "scrolled": true
   },
   "outputs": [
    {
     "data": {
      "image/png": "[encoded data removed]",
      "text/plain": [
       "<matplotlib.figure.Figure at 0x10ebc1550>"
      ]
     },
     "metadata": {},
     "output_type": "display_data"
    }
   ],
   "source": [
    "df_copy = data.copy()\n",
    "encoders = {}\n",
    "for column in df_copy.columns:\n",
    "    if df_copy.dtypes[column] == np.object:\n",
    "        encoders[column] = LabelEncoder()\n",
    "        df_copy[column] = encoders[column].fit_transform(df_copy[column])\n",
    "\n",
    "sns.heatmap(df_copy.corr(), square=True)        \n",
    "plt.show()"
   ]
  },
  {
   "cell_type": "markdown",
   "metadata": {},
   "source": [
    "Pairs like educational-num and education, marital-status and relationship have stronger correlations than others. It is understandable since they are different descriptions on the same attributes. \n",
    "\n",
    "Using 0.5 as a cutoff point, let's see if any strong correlated features exisit."
   ]
  },
  {
   "cell_type": "code",
   "execution_count": 15,
   "metadata": {
    "collapsed": false
   },
   "outputs": [
    {
     "data": {
      "image/png": "[encoded data removed]",
      "text/plain": [
       "<matplotlib.figure.Figure at 0x10ebdd490>"
      ]
     },
     "metadata": {},
     "output_type": "display_data"
    }
   ],
   "source": [
    "sns.heatmap(df_copy.corr()[df_copy.corr()>0.5], square=True) \n",
    "plt.show()"
   ]
  },
  {
   "cell_type": "markdown",
   "metadata": {},
   "source": [
    "No. The correlations are still within an acceptable range. It is not necessary to discard any feature. "
   ]
  },
  {
   "cell_type": "markdown",
   "metadata": {},
   "source": [
    "# 3. Logistic Regression\n",
    "A common way to improve performance of logistic regression model is through feature engineering.  "
   ]
  },
  {
   "cell_type": "markdown",
   "metadata": {},
   "source": [
    "## Feature Engineering with Numerical Variables\n",
    "From earlier study of significance level, the set of independent variables are quite useful. Intuitively, the dataset is from census so only revelant features are in the scope. \n",
    "\n",
    "I only removed 'fnlwgt' because it is not a meaningful contributor to income. \n",
    "\n",
    "In practice, reducing features did bring down the model performance. So the problem in interest here is to infer more information from existing features.\n",
    "\n",
    "Constructing new features with two ideas:\n",
    "* Using highly significant features. In numerical feature, the top ones are 'educational-num', 'capital-gain', 'age' and 'hours-per-week'\n",
    "* Common understanding. For example, 'capital-gain' is an indication of a person's capability outside of work or education. This feature is like an augementation to known measures such as education, work or age. \n",
    "\n",
    "With a series of testing, two new features are selected as below. "
   ]
  },
  {
   "cell_type": "code",
   "execution_count": 16,
   "metadata": {
    "collapsed": true
   },
   "outputs": [],
   "source": [
    "data['cap_edu'] = data['capital-gain'] * data['educational-num']\n",
    "data['cap_age'] = data['capital-gain'] * np.log(data['age']) "
   ]
  },
  {
   "cell_type": "markdown",
   "metadata": {},
   "source": [
    "In addition, 'age' and 'educational-num' are skewed. So both fields are transformed using log function."
   ]
  },
  {
   "cell_type": "code",
   "execution_count": 17,
   "metadata": {
    "collapsed": true
   },
   "outputs": [],
   "source": [
    "# log of numerical\n",
    "data['age'] = np.log(data['age'])\n",
    "data['educational-num'] = np.log(data['educational-num'])"
   ]
  },
  {
   "cell_type": "markdown",
   "metadata": {},
   "source": [
    "## Feature Engineering with Categorical Variables\n",
    "'capital-loss' and 'capital-loss' are highly skewed. They are full of zero values. Instead of transform the numerical terms, it makes more sense to bin the values to turn the two fields to categorical variables.  "
   ]
  },
  {
   "cell_type": "code",
   "execution_count": 18,
   "metadata": {
    "collapsed": true
   },
   "outputs": [],
   "source": [
    "gain = data[data[\"capital-gain\"] > 0][\"capital-gain\"]\n",
    "loss = data[data[\"capital-loss\"] > 0][\"capital-loss\"]\n",
    "\n",
    "gain_m = np.median(gain)\n",
    "loss_m = np.median(loss)\n",
    "\n",
    "def gain_lable(num, median):\n",
    "    if num == 0:\n",
    "        return 'no-gain'\n",
    "    elif num <= median:\n",
    "        return 'ok-gain'\n",
    "    else:\n",
    "        return 'good-gain'\n",
    "\n",
    "def loss_lable(num, median):\n",
    "    if num == 0:\n",
    "        return 'no-loss'\n",
    "    elif num <= median:\n",
    "        return 'ok-loss'\n",
    "    else:\n",
    "        return 'bad-loss'\n",
    "    \n",
    "data[\"capital-gain\"] = data[\"capital-gain\"].apply(lambda x: gain_lable(x, gain_m))\n",
    "data[\"capital-loss\"] = data[\"capital-loss\"].apply(lambda x: loss_lable(x, loss_m))\n",
    "                                                  "
   ]
  },
  {
   "cell_type": "markdown",
   "metadata": {
    "collapsed": true
   },
   "source": [
    "Discretization is a common method to group similar values together to make categorical features more meaningful. \n",
    "\n",
    "But discretization also causes loss of information. After testing of different ways of discretization, I chose to apply discretization on 'education' and 'workclass'. "
   ]
  },
  {
   "cell_type": "code",
   "execution_count": 19,
   "metadata": {
    "collapsed": false
   },
   "outputs": [],
   "source": [
    "# education\n",
    "# Preschool < 1st-4th < 5th-6th < 7th-8th < 9th < 10th < 11th < 12th \n",
    "# < HS-grad < Prof-school < Assoc-acdm < Assoc-voc < Some-college \n",
    "# < Bachelors < Masters < Doctorate\n",
    "\n",
    "data.replace(['Preschool', '1st-4th', '5th-6th', '7th-8th', '9th', '10th', '11th', '12th',\n",
    "              'HS-grad' , 'Prof-school' , 'Assoc-acdm' , 'Assoc-voc', \n",
    "              'Some-college' , 'Bachelors' , 'Masters' , 'Doctorate'],\n",
    "             ['Dropout', 'Dropout', 'Dropout', 'Dropout', 'Dropout', \n",
    "              'Dropout', 'Dropout', 'Dropout',\n",
    "              'HS-Graduate', 'Prof-School', 'Associates', 'Associates', \n",
    "              'HS-Graduate', 'Bachelors', 'Masters' , 'Doctorate'], inplace=True)\n",
    "\n",
    "# workclass\n",
    "data.replace(['Federal-gov', 'Local-gov', 'State-gov',\n",
    "              'Private', 'Self-emp-inc', 'Self-emp-not-inc', \n",
    "              'Without-pay', 'Never-worked'],\n",
    "             ['Federal-Govt', 'Other-Govt', 'Other-Govt', \n",
    "              'Private', 'Self-Employed', 'Self-Employed', \n",
    "              'Not-Working', 'Not-Working'], inplace=True)"
   ]
  },
  {
   "cell_type": "markdown",
   "metadata": {},
   "source": [
    "Categorical variables need to be transformed to numbers to fit into most the models. \n",
    "\n",
    "I used one-hot-encoding to do that. Basically is to introduce dummy variables to the modelling. "
   ]
  },
  {
   "cell_type": "code",
   "execution_count": 20,
   "metadata": {
    "collapsed": false
   },
   "outputs": [
    {
     "data": {
      "text/html": [
       "<div>\n",
       "<table border=\"1\" class=\"dataframe\">\n",
       "  <thead>\n",
       "    <tr style=\"text-align: right;\">\n",
       "      <th></th>\n",
       "      <th>age</th>\n",
       "      <th>fnlwgt</th>\n",
       "      <th>educational-num</th>\n",
       "      <th>hours-per-week</th>\n",
       "      <th>income</th>\n",
       "      <th>cap_edu</th>\n",
       "      <th>cap_age</th>\n",
       "      <th>Federal-Govt</th>\n",
       "      <th>Not-Working</th>\n",
       "      <th>Other-Govt</th>\n",
       "      <th>...</th>\n",
       "      <th>Portugal</th>\n",
       "      <th>Puerto-Rico</th>\n",
       "      <th>Scotland</th>\n",
       "      <th>South</th>\n",
       "      <th>Taiwan</th>\n",
       "      <th>Thailand</th>\n",
       "      <th>Trinadad&amp;Tobago</th>\n",
       "      <th>United-States</th>\n",
       "      <th>Vietnam</th>\n",
       "      <th>Yugoslavia</th>\n",
       "    </tr>\n",
       "  </thead>\n",
       "  <tbody>\n",
       "    <tr>\n",
       "      <th>0</th>\n",
       "      <td>3.218876</td>\n",
       "      <td>226802</td>\n",
       "      <td>1.945910</td>\n",
       "      <td>40</td>\n",
       "      <td>0</td>\n",
       "      <td>0</td>\n",
       "      <td>0.000000</td>\n",
       "      <td>0.0</td>\n",
       "      <td>0.0</td>\n",
       "      <td>0.0</td>\n",
       "      <td>...</td>\n",
       "      <td>0.0</td>\n",
       "      <td>0.0</td>\n",
       "      <td>0.0</td>\n",
       "      <td>0.0</td>\n",
       "      <td>0.0</td>\n",
       "      <td>0.0</td>\n",
       "      <td>0.0</td>\n",
       "      <td>1.0</td>\n",
       "      <td>0.0</td>\n",
       "      <td>0.0</td>\n",
       "    </tr>\n",
       "    <tr>\n",
       "      <th>1</th>\n",
       "      <td>3.637586</td>\n",
       "      <td>89814</td>\n",
       "      <td>2.197225</td>\n",
       "      <td>50</td>\n",
       "      <td>0</td>\n",
       "      <td>0</td>\n",
       "      <td>0.000000</td>\n",
       "      <td>0.0</td>\n",
       "      <td>0.0</td>\n",
       "      <td>0.0</td>\n",
       "      <td>...</td>\n",
       "      <td>0.0</td>\n",
       "      <td>0.0</td>\n",
       "      <td>0.0</td>\n",
       "      <td>0.0</td>\n",
       "      <td>0.0</td>\n",
       "      <td>0.0</td>\n",
       "      <td>0.0</td>\n",
       "      <td>1.0</td>\n",
       "      <td>0.0</td>\n",
       "      <td>0.0</td>\n",
       "    </tr>\n",
       "    <tr>\n",
       "      <th>2</th>\n",
       "      <td>3.332205</td>\n",
       "      <td>336951</td>\n",
       "      <td>2.484907</td>\n",
       "      <td>40</td>\n",
       "      <td>1</td>\n",
       "      <td>0</td>\n",
       "      <td>0.000000</td>\n",
       "      <td>0.0</td>\n",
       "      <td>0.0</td>\n",
       "      <td>1.0</td>\n",
       "      <td>...</td>\n",
       "      <td>0.0</td>\n",
       "      <td>0.0</td>\n",
       "      <td>0.0</td>\n",
       "      <td>0.0</td>\n",
       "      <td>0.0</td>\n",
       "      <td>0.0</td>\n",
       "      <td>0.0</td>\n",
       "      <td>1.0</td>\n",
       "      <td>0.0</td>\n",
       "      <td>0.0</td>\n",
       "    </tr>\n",
       "    <tr>\n",
       "      <th>3</th>\n",
       "      <td>3.784190</td>\n",
       "      <td>160323</td>\n",
       "      <td>2.302585</td>\n",
       "      <td>40</td>\n",
       "      <td>1</td>\n",
       "      <td>76880</td>\n",
       "      <td>29092.849906</td>\n",
       "      <td>0.0</td>\n",
       "      <td>0.0</td>\n",
       "      <td>0.0</td>\n",
       "      <td>...</td>\n",
       "      <td>0.0</td>\n",
       "      <td>0.0</td>\n",
       "      <td>0.0</td>\n",
       "      <td>0.0</td>\n",
       "      <td>0.0</td>\n",
       "      <td>0.0</td>\n",
       "      <td>0.0</td>\n",
       "      <td>1.0</td>\n",
       "      <td>0.0</td>\n",
       "      <td>0.0</td>\n",
       "    </tr>\n",
       "    <tr>\n",
       "      <th>5</th>\n",
       "      <td>3.526361</td>\n",
       "      <td>198693</td>\n",
       "      <td>1.791759</td>\n",
       "      <td>30</td>\n",
       "      <td>0</td>\n",
       "      <td>0</td>\n",
       "      <td>0.000000</td>\n",
       "      <td>0.0</td>\n",
       "      <td>0.0</td>\n",
       "      <td>0.0</td>\n",
       "      <td>...</td>\n",
       "      <td>0.0</td>\n",
       "      <td>0.0</td>\n",
       "      <td>0.0</td>\n",
       "      <td>0.0</td>\n",
       "      <td>0.0</td>\n",
       "      <td>0.0</td>\n",
       "      <td>0.0</td>\n",
       "      <td>1.0</td>\n",
       "      <td>0.0</td>\n",
       "      <td>0.0</td>\n",
       "    </tr>\n",
       "  </tbody>\n",
       "</table>\n",
       "<p>5 rows × 100 columns</p>\n",
       "</div>"
      ],
      "text/plain": [
       "        age  fnlwgt  educational-num  hours-per-week  income  cap_edu  \\\n",
       "0  3.218876  226802         1.945910              40       0        0   \n",
       "1  3.637586   89814         2.197225              50       0        0   \n",
       "2  3.332205  336951         2.484907              40       1        0   \n",
       "3  3.784190  160323         2.302585              40       1    76880   \n",
       "5  3.526361  198693         1.791759              30       0        0   \n",
       "\n",
       "        cap_age  Federal-Govt  Not-Working  Other-Govt     ...      Portugal  \\\n",
       "0      0.000000           0.0          0.0         0.0     ...           0.0   \n",
       "1      0.000000           0.0          0.0         0.0     ...           0.0   \n",
       "2      0.000000           0.0          0.0         1.0     ...           0.0   \n",
       "3  29092.849906           0.0          0.0         0.0     ...           0.0   \n",
       "5      0.000000           0.0          0.0         0.0     ...           0.0   \n",
       "\n",
       "   Puerto-Rico  Scotland  South  Taiwan  Thailand  Trinadad&Tobago  \\\n",
       "0          0.0       0.0    0.0     0.0       0.0              0.0   \n",
       "1          0.0       0.0    0.0     0.0       0.0              0.0   \n",
       "2          0.0       0.0    0.0     0.0       0.0              0.0   \n",
       "3          0.0       0.0    0.0     0.0       0.0              0.0   \n",
       "5          0.0       0.0    0.0     0.0       0.0              0.0   \n",
       "\n",
       "   United-States  Vietnam  Yugoslavia  \n",
       "0            1.0      0.0         0.0  \n",
       "1            1.0      0.0         0.0  \n",
       "2            1.0      0.0         0.0  \n",
       "3            1.0      0.0         0.0  \n",
       "5            1.0      0.0         0.0  \n",
       "\n",
       "[5 rows x 100 columns]"
      ]
     },
     "execution_count": 20,
     "metadata": {},
     "output_type": "execute_result"
    }
   ],
   "source": [
    "for column in data.columns:\n",
    "    if data.dtypes[column] == np.object:\n",
    "        df_encoded=pd.get_dummies(data[column])\n",
    "        data =  data.join(df_encoded)\n",
    "        data = data.drop(column, axis=1)\n",
    "\n",
    "data.head()"
   ]
  },
  {
   "cell_type": "markdown",
   "metadata": {},
   "source": [
    "## Logistic: Build the Model"
   ]
  },
  {
   "cell_type": "markdown",
   "metadata": {},
   "source": [
    "Finally the modelling!\n",
    "\n",
    "Remeber, the class is imbalanced. Stratified sampling is used to preserved the class ratio. \n",
    "\n",
    "And regularized logistic model is used to avoid overfitting. "
   ]
  },
  {
   "cell_type": "code",
   "execution_count": 21,
   "metadata": {
    "collapsed": false
   },
   "outputs": [],
   "source": [
    "predictors = [x for x in data.columns if x != 'income']\n",
    "predictors.remove('fnlwgt')\n",
    "\n",
    "high_income = data[data['income'] == 1]\n",
    "low_income = data[data['income'] == 0]\n",
    "\n",
    "# stratified sampling\n",
    "#80% to train set\n",
    "train = pd.concat([high_income.sample(frac=0.8, random_state=0),\n",
    "                   low_income.sample(frac=0.8, random_state=0)]) \n",
    "y_train = train[\"income\"]\n",
    "X_train = train[predictors]\n",
    "\n",
    "#20% to test set\n",
    "test = pd.concat([high_income.sample(frac=0.2, random_state=1), \n",
    "                  low_income.sample(frac=0.2, random_state=1)])\n",
    "y_test = test[\"income\"]\n",
    "X_test = test[predictors]"
   ]
  },
  {
   "cell_type": "code",
   "execution_count": 22,
   "metadata": {
    "collapsed": false
   },
   "outputs": [
    {
     "name": "stdout",
     "output_type": "stream",
     "text": [
      "Optimization terminated successfully.    (Exit mode 0)\n",
      "            Current function value: 0.31686879825\n",
      "            Iterations: 455\n",
      "            Function evaluations: 475\n",
      "            Gradient evaluations: 455\n",
      "\n",
      " train set result\n",
      "ACC=0.811234\n",
      "AUC=0.825759\n",
      "\n",
      " test set result\n",
      "ACC=0.811498\n",
      "AUC=0.825646\n"
     ]
    }
   ],
   "source": [
    "#train using regularized logistic model to avoid overfitting\n",
    "logit_train = sm.Logit(y_train, X_train) \n",
    "result_train = logit_train.fit_regularized()\n",
    "\n",
    "y_train_pred = result_train.predict(X_train) \n",
    "y_train_pred = (y_train_pred > 0.25).astype(int) \n",
    "acc = accuracy_score(y_train, y_train_pred)\n",
    "print(\"\\n train set result\")\n",
    "print(\"ACC=%f\" % (acc))\n",
    "auc = roc_auc_score(y_train, y_train_pred) \n",
    "print(\"AUC=%f\" % (auc))\n",
    "\n",
    "print(\"\\n test set result\")\n",
    "y_test_pred = result_train.predict(X_test) \n",
    "y_test_pred = (y_test_pred > 0.25).astype(int) \n",
    "acc = accuracy_score(y_test, y_test_pred)\n",
    "print(\"ACC=%f\" % (acc))\n",
    "auc = roc_auc_score(y_test, y_test_pred)\n",
    "print(\"AUC=%f\" % (auc))"
   ]
  },
  {
   "cell_type": "markdown",
   "metadata": {},
   "source": [
    "The AUC is about 82.6%. Not bad.\n",
    "\n",
    "Feature engineering has helped the performance of logistic regression (ps. in my first run, I can only get about 70% AUC from logistic regression). But feature engineering is not that useful with SVM or tree-based algorithms. \n",
    "\n",
    "Let's continue exploring the other two algorithms."
   ]
  },
  {
   "cell_type": "markdown",
   "metadata": {
    "collapsed": true
   },
   "source": [
    "# 4. Support Vector Machine"
   ]
  },
  {
   "cell_type": "markdown",
   "metadata": {},
   "source": [
    "A new start! Let's restore using the clean_data saved earlier. The dataset is the cleaned one before any feature engineering took place."
   ]
  },
  {
   "cell_type": "code",
   "execution_count": 23,
   "metadata": {
    "collapsed": true
   },
   "outputs": [],
   "source": [
    "data = clean_data"
   ]
  },
  {
   "cell_type": "code",
   "execution_count": 24,
   "metadata": {
    "collapsed": true
   },
   "outputs": [],
   "source": [
    "encoders = {}\n",
    "for column in data.columns:\n",
    "    if data.dtypes[column] == np.object:\n",
    "        encoders[column] = LabelEncoder()\n",
    "        data[column] = encoders[column].fit_transform(data[column])"
   ]
  },
  {
   "cell_type": "code",
   "execution_count": 25,
   "metadata": {
    "collapsed": false,
    "scrolled": true
   },
   "outputs": [
    {
     "data": {
      "text/html": [
       "<div>\n",
       "<table border=\"1\" class=\"dataframe\">\n",
       "  <thead>\n",
       "    <tr style=\"text-align: right;\">\n",
       "      <th></th>\n",
       "      <th>age</th>\n",
       "      <th>workclass</th>\n",
       "      <th>fnlwgt</th>\n",
       "      <th>education</th>\n",
       "      <th>educational-num</th>\n",
       "      <th>marital-status</th>\n",
       "      <th>occupation</th>\n",
       "      <th>relationship</th>\n",
       "      <th>race</th>\n",
       "      <th>gender</th>\n",
       "      <th>capital-gain</th>\n",
       "      <th>capital-loss</th>\n",
       "      <th>hours-per-week</th>\n",
       "      <th>native-country</th>\n",
       "      <th>income</th>\n",
       "    </tr>\n",
       "  </thead>\n",
       "  <tbody>\n",
       "    <tr>\n",
       "      <th>0</th>\n",
       "      <td>25</td>\n",
       "      <td>2</td>\n",
       "      <td>226802</td>\n",
       "      <td>1</td>\n",
       "      <td>7</td>\n",
       "      <td>4</td>\n",
       "      <td>6</td>\n",
       "      <td>3</td>\n",
       "      <td>2</td>\n",
       "      <td>1</td>\n",
       "      <td>0</td>\n",
       "      <td>0</td>\n",
       "      <td>40</td>\n",
       "      <td>38</td>\n",
       "      <td>0</td>\n",
       "    </tr>\n",
       "    <tr>\n",
       "      <th>1</th>\n",
       "      <td>38</td>\n",
       "      <td>2</td>\n",
       "      <td>89814</td>\n",
       "      <td>11</td>\n",
       "      <td>9</td>\n",
       "      <td>2</td>\n",
       "      <td>4</td>\n",
       "      <td>0</td>\n",
       "      <td>4</td>\n",
       "      <td>1</td>\n",
       "      <td>0</td>\n",
       "      <td>0</td>\n",
       "      <td>50</td>\n",
       "      <td>38</td>\n",
       "      <td>0</td>\n",
       "    </tr>\n",
       "    <tr>\n",
       "      <th>2</th>\n",
       "      <td>28</td>\n",
       "      <td>1</td>\n",
       "      <td>336951</td>\n",
       "      <td>7</td>\n",
       "      <td>12</td>\n",
       "      <td>2</td>\n",
       "      <td>10</td>\n",
       "      <td>0</td>\n",
       "      <td>4</td>\n",
       "      <td>1</td>\n",
       "      <td>0</td>\n",
       "      <td>0</td>\n",
       "      <td>40</td>\n",
       "      <td>38</td>\n",
       "      <td>1</td>\n",
       "    </tr>\n",
       "    <tr>\n",
       "      <th>3</th>\n",
       "      <td>44</td>\n",
       "      <td>2</td>\n",
       "      <td>160323</td>\n",
       "      <td>15</td>\n",
       "      <td>10</td>\n",
       "      <td>2</td>\n",
       "      <td>6</td>\n",
       "      <td>0</td>\n",
       "      <td>2</td>\n",
       "      <td>1</td>\n",
       "      <td>7688</td>\n",
       "      <td>0</td>\n",
       "      <td>40</td>\n",
       "      <td>38</td>\n",
       "      <td>1</td>\n",
       "    </tr>\n",
       "    <tr>\n",
       "      <th>5</th>\n",
       "      <td>34</td>\n",
       "      <td>2</td>\n",
       "      <td>198693</td>\n",
       "      <td>0</td>\n",
       "      <td>6</td>\n",
       "      <td>4</td>\n",
       "      <td>7</td>\n",
       "      <td>1</td>\n",
       "      <td>4</td>\n",
       "      <td>1</td>\n",
       "      <td>0</td>\n",
       "      <td>0</td>\n",
       "      <td>30</td>\n",
       "      <td>38</td>\n",
       "      <td>0</td>\n",
       "    </tr>\n",
       "  </tbody>\n",
       "</table>\n",
       "</div>"
      ],
      "text/plain": [
       "   age  workclass  fnlwgt  education  educational-num  marital-status  \\\n",
       "0   25          2  226802          1                7               4   \n",
       "1   38          2   89814         11                9               2   \n",
       "2   28          1  336951          7               12               2   \n",
       "3   44          2  160323         15               10               2   \n",
       "5   34          2  198693          0                6               4   \n",
       "\n",
       "   occupation  relationship  race  gender  capital-gain  capital-loss  \\\n",
       "0           6             3     2       1             0             0   \n",
       "1           4             0     4       1             0             0   \n",
       "2          10             0     4       1             0             0   \n",
       "3           6             0     2       1          7688             0   \n",
       "5           7             1     4       1             0             0   \n",
       "\n",
       "   hours-per-week  native-country  income  \n",
       "0              40              38       0  \n",
       "1              50              38       0  \n",
       "2              40              38       1  \n",
       "3              40              38       1  \n",
       "5              30              38       0  "
      ]
     },
     "execution_count": 25,
     "metadata": {},
     "output_type": "execute_result"
    }
   ],
   "source": [
    "data.head()"
   ]
  },
  {
   "cell_type": "markdown",
   "metadata": {},
   "source": [
    "## Oversampling"
   ]
  },
  {
   "cell_type": "markdown",
   "metadata": {},
   "source": [
    "As you see, I simply transformed categorical features to numerical ones.\n",
    "\n",
    "Feature engineering is not helpful in SVM with this dataset. In my practice, the improvement on SVM comes from oversampling. \n",
    "\n",
    "Again, the class is imbalanced. \n",
    "\n",
    "Oversampling is a technique to adjust the class distribution of a data set. In this dataset, it is to increase minority class to make target value balanced. \n",
    "\n",
    "SVM classifier trained on an imbalanced dataset is known to produce suboptimal models which are biased towards the majority class.\n",
    "\n",
    "Oversampling/undersampling is a way to help. "
   ]
  },
  {
   "cell_type": "markdown",
   "metadata": {},
   "source": [
    "## SVM: Build the Model"
   ]
  },
  {
   "cell_type": "code",
   "execution_count": 28,
   "metadata": {
    "collapsed": true
   },
   "outputs": [],
   "source": [
    "predictors = [x for x in data.columns if x != 'income']\n",
    "predictors.remove('fnlwgt')\n",
    "alg = Pipeline([('scaler',StandardScaler()),\n",
    "                ('svc',SVC(kernel=\"rbf\", random_state=1))])"
   ]
  },
  {
   "cell_type": "code",
   "execution_count": 29,
   "metadata": {
    "collapsed": false
   },
   "outputs": [
    {
     "name": "stdout",
     "output_type": "stream",
     "text": [
      "ACC=0.805086\n",
      "AUC=0.831849\n"
     ]
    }
   ],
   "source": [
    "high_income = data[data['income'] == 1]\n",
    "low_income = data[data['income'] == 0]\n",
    "\n",
    "train1 = pd.concat([high_income.sample(frac=0.8, random_state=1),\n",
    "                    low_income.sample(frac=0.8, random_state=1)]) \n",
    "train2 = pd.concat([high_income.sample(frac=0.8, random_state=2),\n",
    "                    low_income.sample(frac=0.8, random_state=2)]) \n",
    "train3 = pd.concat([high_income.sample(frac=0.8, random_state=3),\n",
    "                    low_income.sample(frac=0.8, random_state=3)]) \n",
    "train = pd.concat([train1,\n",
    "                   train2[train2[\"income\"]==1],\n",
    "                   train3[train3[\"income\"]==1]])\n",
    "\n",
    "y_train = train[\"income\"]\n",
    "X_train = train[predictors]\n",
    "\n",
    "test = pd.concat([high_income.sample(frac=0.2, random_state=4),\n",
    "                  low_income.sample(frac=0.2, random_state=4)]) \n",
    "\n",
    "y_test = test[\"income\"]\n",
    "X_test = test[predictors]\n",
    "\n",
    "alg.fit(X_train, y_train)\n",
    "\n",
    "y_pred = alg.predict(X_test)\n",
    "acc = accuracy_score(y_test, y_pred) \n",
    "print(\"ACC=%f\" % (acc))\n",
    "auc = roc_auc_score(y_test, y_pred)\n",
    "print(\"AUC=%f\" % (auc))"
   ]
  },
  {
   "cell_type": "markdown",
   "metadata": {},
   "source": [
    "With oversampling, we managed to achieve an AUC of 83%."
   ]
  },
  {
   "cell_type": "markdown",
   "metadata": {
    "collapsed": true
   },
   "source": [
    "# 5. Random Forests"
   ]
  },
  {
   "cell_type": "markdown",
   "metadata": {},
   "source": [
    "Last but not least, let's try randome forests"
   ]
  },
  {
   "cell_type": "code",
   "execution_count": 30,
   "metadata": {
    "collapsed": true
   },
   "outputs": [],
   "source": [
    "data = clean_data\n",
    "\n",
    "predictors = [x for x in data.columns if x != 'income']\n",
    "predictors.remove('fnlwgt')\n",
    "\n",
    "encoders = {}\n",
    "for column in data.columns:\n",
    "    if data.dtypes[column] == np.object:\n",
    "        encoders[column] = LabelEncoder()\n",
    "        data[column] = encoders[column].fit_transform(data[column])"
   ]
  },
  {
   "cell_type": "code",
   "execution_count": 31,
   "metadata": {
    "collapsed": false
   },
   "outputs": [
    {
     "data": {
      "text/html": [
       "<div>\n",
       "<table border=\"1\" class=\"dataframe\">\n",
       "  <thead>\n",
       "    <tr style=\"text-align: right;\">\n",
       "      <th></th>\n",
       "      <th>age</th>\n",
       "      <th>workclass</th>\n",
       "      <th>fnlwgt</th>\n",
       "      <th>education</th>\n",
       "      <th>educational-num</th>\n",
       "      <th>marital-status</th>\n",
       "      <th>occupation</th>\n",
       "      <th>relationship</th>\n",
       "      <th>race</th>\n",
       "      <th>gender</th>\n",
       "      <th>capital-gain</th>\n",
       "      <th>capital-loss</th>\n",
       "      <th>hours-per-week</th>\n",
       "      <th>native-country</th>\n",
       "      <th>income</th>\n",
       "    </tr>\n",
       "  </thead>\n",
       "  <tbody>\n",
       "    <tr>\n",
       "      <th>0</th>\n",
       "      <td>25</td>\n",
       "      <td>2</td>\n",
       "      <td>226802</td>\n",
       "      <td>1</td>\n",
       "      <td>7</td>\n",
       "      <td>4</td>\n",
       "      <td>6</td>\n",
       "      <td>3</td>\n",
       "      <td>2</td>\n",
       "      <td>1</td>\n",
       "      <td>0</td>\n",
       "      <td>0</td>\n",
       "      <td>40</td>\n",
       "      <td>38</td>\n",
       "      <td>0</td>\n",
       "    </tr>\n",
       "    <tr>\n",
       "      <th>1</th>\n",
       "      <td>38</td>\n",
       "      <td>2</td>\n",
       "      <td>89814</td>\n",
       "      <td>11</td>\n",
       "      <td>9</td>\n",
       "      <td>2</td>\n",
       "      <td>4</td>\n",
       "      <td>0</td>\n",
       "      <td>4</td>\n",
       "      <td>1</td>\n",
       "      <td>0</td>\n",
       "      <td>0</td>\n",
       "      <td>50</td>\n",
       "      <td>38</td>\n",
       "      <td>0</td>\n",
       "    </tr>\n",
       "    <tr>\n",
       "      <th>2</th>\n",
       "      <td>28</td>\n",
       "      <td>1</td>\n",
       "      <td>336951</td>\n",
       "      <td>7</td>\n",
       "      <td>12</td>\n",
       "      <td>2</td>\n",
       "      <td>10</td>\n",
       "      <td>0</td>\n",
       "      <td>4</td>\n",
       "      <td>1</td>\n",
       "      <td>0</td>\n",
       "      <td>0</td>\n",
       "      <td>40</td>\n",
       "      <td>38</td>\n",
       "      <td>1</td>\n",
       "    </tr>\n",
       "    <tr>\n",
       "      <th>3</th>\n",
       "      <td>44</td>\n",
       "      <td>2</td>\n",
       "      <td>160323</td>\n",
       "      <td>15</td>\n",
       "      <td>10</td>\n",
       "      <td>2</td>\n",
       "      <td>6</td>\n",
       "      <td>0</td>\n",
       "      <td>2</td>\n",
       "      <td>1</td>\n",
       "      <td>7688</td>\n",
       "      <td>0</td>\n",
       "      <td>40</td>\n",
       "      <td>38</td>\n",
       "      <td>1</td>\n",
       "    </tr>\n",
       "    <tr>\n",
       "      <th>5</th>\n",
       "      <td>34</td>\n",
       "      <td>2</td>\n",
       "      <td>198693</td>\n",
       "      <td>0</td>\n",
       "      <td>6</td>\n",
       "      <td>4</td>\n",
       "      <td>7</td>\n",
       "      <td>1</td>\n",
       "      <td>4</td>\n",
       "      <td>1</td>\n",
       "      <td>0</td>\n",
       "      <td>0</td>\n",
       "      <td>30</td>\n",
       "      <td>38</td>\n",
       "      <td>0</td>\n",
       "    </tr>\n",
       "  </tbody>\n",
       "</table>\n",
       "</div>"
      ],
      "text/plain": [
       "   age  workclass  fnlwgt  education  educational-num  marital-status  \\\n",
       "0   25          2  226802          1                7               4   \n",
       "1   38          2   89814         11                9               2   \n",
       "2   28          1  336951          7               12               2   \n",
       "3   44          2  160323         15               10               2   \n",
       "5   34          2  198693          0                6               4   \n",
       "\n",
       "   occupation  relationship  race  gender  capital-gain  capital-loss  \\\n",
       "0           6             3     2       1             0             0   \n",
       "1           4             0     4       1             0             0   \n",
       "2          10             0     4       1             0             0   \n",
       "3           6             0     2       1          7688             0   \n",
       "5           7             1     4       1             0             0   \n",
       "\n",
       "   hours-per-week  native-country  income  \n",
       "0              40              38       0  \n",
       "1              50              38       0  \n",
       "2              40              38       1  \n",
       "3              40              38       1  \n",
       "5              30              38       0  "
      ]
     },
     "execution_count": 31,
     "metadata": {},
     "output_type": "execute_result"
    }
   ],
   "source": [
    "data.head()"
   ]
  },
  {
   "cell_type": "markdown",
   "metadata": {},
   "source": [
    "## Parameter Tuning"
   ]
  },
  {
   "cell_type": "markdown",
   "metadata": {},
   "source": [
    "The random forest classifier has a set of parameters number of trees, criteria in node splitting, max depth of tree growth, min samples allowed in a leaf node.\n",
    "\n",
    "What parameters to set? Well, there is always a trade-off. \n",
    "* Incorporating more trees or more features generally increases model performance, but hinders calculating efficiency. Also model performance will hit a stagnant point with such increase in trees or features. \n",
    "* Allowing the tree to grow is good to fit the dataset, but is prone to overfitting. \n",
    "\n",
    "I used Grid Search, a popular parameter tuning method to get an idea of suitable parameters. The concept of Grid Search is to perform an exhaustive parameter testing in giving classifier and return the best set of parameters. \n",
    "\n",
    "Due to time limit, I only examined parameters which I considered critical. Since it is not exhaustive, let's just use it as a reference. "
   ]
  },
  {
   "cell_type": "code",
   "execution_count": 32,
   "metadata": {
    "collapsed": false
   },
   "outputs": [
    {
     "name": "stdout",
     "output_type": "stream",
     "text": [
      "{'max_features': 'log2', 'n_estimators': 200, 'criterion': 'gini', 'min_samples_leaf': 50}\n"
     ]
    }
   ],
   "source": [
    "sss = StratifiedShuffleSplit(target, 1, test_size=0.2, random_state=1) \n",
    "for train_index, test_index in sss:\n",
    "    train_data = data.iloc[train_index]\n",
    "    test_data = data.iloc[test_index]\n",
    "    X_train, X_test = train_data[predictors], test_data[predictors] \n",
    "    y_train, y_test = train_data[\"income\"], test_data[\"income\"]\n",
    "\n",
    "rfc = RandomForestClassifier(n_jobs=-1,max_features= 'sqrt' ,n_estimators=50) \n",
    "\n",
    "param_grid = { \n",
    "    'n_estimators': [100, 200, 300],\n",
    "    'max_features': ['sqrt', 'log2'],\n",
    "    'criterion': ['gini', 'entropy'],\n",
    "    'min_samples_leaf': [50, 75, 100]\n",
    "}\n",
    "\n",
    "CV_rfc = GridSearchCV(estimator=rfc, param_grid=param_grid, cv= 5)\n",
    "CV_rfc.fit(X_train, y_train)\n",
    "print CV_rfc.best_params_"
   ]
  },
  {
   "cell_type": "markdown",
   "metadata": {},
   "source": [
    "## RF: Build the Model"
   ]
  },
  {
   "cell_type": "markdown",
   "metadata": {},
   "source": [
    "Following suggested optimal parameters from Grid Search, I built the random forest classifier as below.\n",
    "\n",
    "With min_samples_leaf=50, the classifier is prone to overfitting. So min_samples_leaf=80 is set instead."
   ]
  },
  {
   "cell_type": "code",
   "execution_count": 38,
   "metadata": {
    "collapsed": false
   },
   "outputs": [
    {
     "name": "stdout",
     "output_type": "stream",
     "text": [
      "train\n",
      "ACC=0.855132\n",
      "AUC=0.829637\n",
      "test\n",
      "ACC=0.855848\n",
      "AUC=0.830042\n"
     ]
    }
   ],
   "source": [
    "# stratified sampling\n",
    "sss = StratifiedShuffleSplit(target, 1, test_size=0.1, random_state=1) \n",
    "for train_index, test_index in sss:\n",
    "    train_data = data.iloc[train_index]\n",
    "    test_data = data.iloc[test_index]\n",
    "    X_train, X_test = train_data[predictors], test_data[predictors] \n",
    "    y_train, y_test = train_data[\"income\"], test_data[\"income\"]\n",
    "\n",
    "    clf = RandomForestClassifier(n_estimators=200, criterion='gini',\n",
    "                                 max_features='log2',\n",
    "                                 random_state=1, min_samples_leaf=80)\n",
    "    \n",
    "    clf.fit(X_train, y_train)\n",
    "    \n",
    "    predictions = clf.predict(X_train) \n",
    "    print('train')\n",
    "    acc = accuracy_score(predictions, y_train)\n",
    "    auc = roc_auc_score(predictions, y_train)\n",
    "    print(\"ACC=%f\" % (acc))\n",
    "    print(\"AUC=%f\" % (auc))\n",
    " \n",
    "    predictions = clf.predict(X_test) \n",
    "    print('test')\n",
    "    acc = accuracy_score(predictions, y_test)\n",
    "    auc = roc_auc_score(predictions, y_test)\n",
    "    print(\"ACC=%f\" % (acc))\n",
    "    print(\"AUC=%f\" % (auc))"
   ]
  },
  {
   "cell_type": "markdown",
   "metadata": {},
   "source": [
    "The AUC 83% :D"
   ]
  },
  {
   "cell_type": "markdown",
   "metadata": {},
   "source": [
    "# 6. Learning"
   ]
  },
  {
   "cell_type": "markdown",
   "metadata": {},
   "source": [
    "My takeaways mainly focuses on three aspects.\n",
    "\n",
    "Firstly, data exploration is important. There is no point diving into complicated algorithms with blind eyes. The underlying distributions and correlations within the data gives clues to subsequent mining process. And such information is extremely helpful when it comes to feature engineering or data transformation. This is where your statistical knowledge find its place. And as someone from a math background, I pretty much enjoyed the process. \n",
    "\n",
    "Secondly, each algorithm has its pros and cons. Be mindful.\n",
    "1. Logistic regression is easy to understand. A good logistic regression highly depends on input quality (i.e. distribution). Still, it is always to good base model to start with in classification.\n",
    "2. SVM handles high dimensional data well. The downside is overfitting/training issues, and the classifier is highly depending on kernel\n",
    "3. Random forest handles imbalanced dataset rather well. But this classifer is like a black-box approach, especially with such large set of parameters used inside. Overfitting is also a common issue with random forest.\n",
    "\n",
    "Lastly, there is always room for improvement. The direction of improvement is different for different algorithms. And below is what I learnt from this project.\n",
    "1. Feature engineering is able to improve performance of logistic regression, but is not very helpful with SVM or tree-based algorithms.\n",
    "2. SVM tends to perform poorly in imbalanced dataset. Oversampling / undersampling is a viable way to improve performanc of SVM in imbalanced dataset.\n",
    "3. Random forest is an ensembling method that is easy to understand and implement. It takes at least 8 parameters that matter to the classifier's performance. Grid Search is a popular and effective way of parameter tuning, but is of calculating complexity. Still, Grid Search will help in getting an idea of right range of parameters to be used. "
   ]
  }
 ],
 "metadata": {
  "kernelspec": {
   "display_name": "Python 2",
   "language": "python",
   "name": "python2"
  },
  "language_info": {
   "codemirror_mode": {
    "name": "ipython",
    "version": 2
   },
   "file_extension": ".py",
   "mimetype": "text/x-python",
   "name": "python",
   "nbconvert_exporter": "python",
   "pygments_lexer": "ipython2",
   "version": "2.7.11"
  }
 },
 "nbformat": 4,
 "nbformat_minor": 0
}
